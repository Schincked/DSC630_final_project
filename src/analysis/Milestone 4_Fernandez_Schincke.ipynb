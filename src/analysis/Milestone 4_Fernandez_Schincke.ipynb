{
 "cells": [
  {
   "cell_type": "markdown",
   "id": "f7fa2f0b",
   "metadata": {},
   "source": [
    "# NVIDIA Stock Movement Prediction  - Milestone 4"
   ]
  },
  {
   "cell_type": "code",
   "execution_count": 120,
   "id": "e8bb4fec",
   "metadata": {},
   "outputs": [],
   "source": [
    "# Imports all the necessary packages\n",
    "import polars as pl\n",
    "import numpy as np\n",
    "from sklearn.preprocessing import MinMaxScaler\n",
    "from sklearn.linear_model import LogisticRegression\n",
    "from sklearn.ensemble import RandomForestClassifier\n",
    "from sklearn.model_selection import train_test_split\n",
    "from sklearn.metrics import accuracy_score, precision_score, recall_score, f1_score, roc_auc_score\n",
    "from sklearn.model_selection import GridSearchCV\n",
    "from tensorflow.keras.models import Sequential\n",
    "from tensorflow.keras.layers import LSTM, Dense\n",
    "import warnings\n",
    "\n",
    "# Disables the warnings\n",
    "warnings.filterwarnings('ignore')"
   ]
  },
  {
   "cell_type": "markdown",
   "id": "af8e468c",
   "metadata": {},
   "source": [
    "### Importing the data"
   ]
  },
  {
   "cell_type": "code",
   "execution_count": 121,
   "id": "83cd4591",
   "metadata": {},
   "outputs": [
    {
     "data": {
      "text/html": [
       "<div><style>\n",
       ".dataframe > thead > tr,\n",
       ".dataframe > tbody > tr {\n",
       "  text-align: right;\n",
       "  white-space: pre-wrap;\n",
       "}\n",
       "</style>\n",
       "<small>shape: (5, 7)</small><table border=\"1\" class=\"dataframe\"><thead><tr><th>Date</th><th>Open</th><th>High</th><th>Low</th><th>Close</th><th>Adj Close</th><th>Volume</th></tr><tr><td>date</td><td>f64</td><td>f64</td><td>f64</td><td>f64</td><td>f64</td><td>i64</td></tr></thead><tbody><tr><td>2000-01-03</td><td>0.984375</td><td>0.992188</td><td>0.919271</td><td>0.97526</td><td>0.894608</td><td>30091200</td></tr><tr><td>2000-01-04</td><td>0.958333</td><td>0.960938</td><td>0.901042</td><td>0.949219</td><td>0.870721</td><td>30048000</td></tr><tr><td>2000-01-05</td><td>0.921875</td><td>0.9375</td><td>0.904948</td><td>0.917969</td><td>0.842055</td><td>18835200</td></tr><tr><td>2000-01-06</td><td>0.917969</td><td>0.917969</td><td>0.822917</td><td>0.858073</td><td>0.787112</td><td>12048000</td></tr><tr><td>2000-01-07</td><td>0.854167</td><td>0.88151</td><td>0.841146</td><td>0.872396</td><td>0.800251</td><td>7118400</td></tr></tbody></table></div>"
      ],
      "text/plain": [
       "shape: (5, 7)\n",
       "┌────────────┬──────────┬──────────┬──────────┬──────────┬───────────┬──────────┐\n",
       "│ Date       ┆ Open     ┆ High     ┆ Low      ┆ Close    ┆ Adj Close ┆ Volume   │\n",
       "│ ---        ┆ ---      ┆ ---      ┆ ---      ┆ ---      ┆ ---       ┆ ---      │\n",
       "│ date       ┆ f64      ┆ f64      ┆ f64      ┆ f64      ┆ f64       ┆ i64      │\n",
       "╞════════════╪══════════╪══════════╪══════════╪══════════╪═══════════╪══════════╡\n",
       "│ 2000-01-03 ┆ 0.984375 ┆ 0.992188 ┆ 0.919271 ┆ 0.97526  ┆ 0.894608  ┆ 30091200 │\n",
       "│ 2000-01-04 ┆ 0.958333 ┆ 0.960938 ┆ 0.901042 ┆ 0.949219 ┆ 0.870721  ┆ 30048000 │\n",
       "│ 2000-01-05 ┆ 0.921875 ┆ 0.9375   ┆ 0.904948 ┆ 0.917969 ┆ 0.842055  ┆ 18835200 │\n",
       "│ 2000-01-06 ┆ 0.917969 ┆ 0.917969 ┆ 0.822917 ┆ 0.858073 ┆ 0.787112  ┆ 12048000 │\n",
       "│ 2000-01-07 ┆ 0.854167 ┆ 0.88151  ┆ 0.841146 ┆ 0.872396 ┆ 0.800251  ┆ 7118400  │\n",
       "└────────────┴──────────┴──────────┴──────────┴──────────┴───────────┴──────────┘"
      ]
     },
     "execution_count": 121,
     "metadata": {},
     "output_type": "execute_result"
    }
   ],
   "source": [
    "# Reads in the csv file\n",
    "df = pl.read_csv(\"data/main/NVDA.csv\", try_parse_dates=True)\n",
    "\n",
    "# Sorts by date\n",
    "df = df.sort(by=[\"Date\"])\n",
    "df.head()"
   ]
  },
  {
   "cell_type": "markdown",
   "id": "6cdbc185",
   "metadata": {},
   "source": [
    "### Checking for missing values"
   ]
  },
  {
   "cell_type": "code",
   "execution_count": 122,
   "id": "74972384",
   "metadata": {},
   "outputs": [
    {
     "data": {
      "text/html": [
       "<div><style>\n",
       ".dataframe > thead > tr,\n",
       ".dataframe > tbody > tr {\n",
       "  text-align: right;\n",
       "  white-space: pre-wrap;\n",
       "}\n",
       "</style>\n",
       "<small>shape: (9, 8)</small><table border=\"1\" class=\"dataframe\"><thead><tr><th>statistic</th><th>Date</th><th>Open</th><th>High</th><th>Low</th><th>Close</th><th>Adj Close</th><th>Volume</th></tr><tr><td>str</td><td>str</td><td>f64</td><td>f64</td><td>f64</td><td>f64</td><td>f64</td><td>f64</td></tr></thead><tbody><tr><td>&quot;count&quot;</td><td>&quot;6116&quot;</td><td>6116.0</td><td>6116.0</td><td>6116.0</td><td>6116.0</td><td>6116.0</td><td>6116.0</td></tr><tr><td>&quot;null_count&quot;</td><td>&quot;0&quot;</td><td>0.0</td><td>0.0</td><td>0.0</td><td>0.0</td><td>0.0</td><td>0.0</td></tr><tr><td>&quot;mean&quot;</td><td>&quot;2012-02-28 11:27:16.363000&quot;</td><td>53.052266</td><td>54.017201</td><td>52.0317</td><td>53.064741</td><td>52.794253</td><td>6.2219e7</td></tr><tr><td>&quot;std&quot;</td><td>null</td><td>121.267334</td><td>123.423982</td><td>118.835114</td><td>121.183234</td><td>121.214864</td><td>4.3167e7</td></tr><tr><td>&quot;min&quot;</td><td>&quot;2000-01-03&quot;</td><td>0.608333</td><td>0.656667</td><td>0.6</td><td>0.614167</td><td>0.563377</td><td>4.5644e6</td></tr><tr><td>&quot;25%&quot;</td><td>&quot;2006-02-02&quot;</td><td>2.96</td><td>3.0275</td><td>2.875</td><td>2.950521</td><td>2.708334</td><td>3.61608e7</td></tr><tr><td>&quot;50%&quot;</td><td>&quot;2012-02-29&quot;</td><td>4.685</td><td>4.7475</td><td>4.61</td><td>4.6825</td><td>4.389289</td><td>5.20639e7</td></tr><tr><td>&quot;75%&quot;</td><td>&quot;2018-03-27&quot;</td><td>42.099998</td><td>42.645</td><td>41.4925</td><td>42.099998</td><td>41.730057</td><td>7.46548e7</td></tr><tr><td>&quot;max&quot;</td><td>&quot;2024-04-24&quot;</td><td>958.51001</td><td>974.0</td><td>935.099976</td><td>950.02002</td><td>950.02002</td><td>9.230856e8</td></tr></tbody></table></div>"
      ],
      "text/plain": [
       "shape: (9, 8)\n",
       "┌────────────┬────────────┬────────────┬───────────┬───────────┬───────────┬───────────┬───────────┐\n",
       "│ statistic  ┆ Date       ┆ Open       ┆ High      ┆ Low       ┆ Close     ┆ Adj Close ┆ Volume    │\n",
       "│ ---        ┆ ---        ┆ ---        ┆ ---       ┆ ---       ┆ ---       ┆ ---       ┆ ---       │\n",
       "│ str        ┆ str        ┆ f64        ┆ f64       ┆ f64       ┆ f64       ┆ f64       ┆ f64       │\n",
       "╞════════════╪════════════╪════════════╪═══════════╪═══════════╪═══════════╪═══════════╪═══════════╡\n",
       "│ count      ┆ 6116       ┆ 6116.0     ┆ 6116.0    ┆ 6116.0    ┆ 6116.0    ┆ 6116.0    ┆ 6116.0    │\n",
       "│ null_count ┆ 0          ┆ 0.0        ┆ 0.0       ┆ 0.0       ┆ 0.0       ┆ 0.0       ┆ 0.0       │\n",
       "│ mean       ┆ 2012-02-28 ┆ 53.052266  ┆ 54.017201 ┆ 52.0317   ┆ 53.064741 ┆ 52.794253 ┆ 6.2219e7  │\n",
       "│            ┆ 11:27:16.3 ┆            ┆           ┆           ┆           ┆           ┆           │\n",
       "│            ┆ 63000      ┆            ┆           ┆           ┆           ┆           ┆           │\n",
       "│ std        ┆ null       ┆ 121.267334 ┆ 123.42398 ┆ 118.83511 ┆ 121.18323 ┆ 121.21486 ┆ 4.3167e7  │\n",
       "│            ┆            ┆            ┆ 2         ┆ 4         ┆ 4         ┆ 4         ┆           │\n",
       "│ min        ┆ 2000-01-03 ┆ 0.608333   ┆ 0.656667  ┆ 0.6       ┆ 0.614167  ┆ 0.563377  ┆ 4.5644e6  │\n",
       "│ 25%        ┆ 2006-02-02 ┆ 2.96       ┆ 3.0275    ┆ 2.875     ┆ 2.950521  ┆ 2.708334  ┆ 3.61608e7 │\n",
       "│ 50%        ┆ 2012-02-29 ┆ 4.685      ┆ 4.7475    ┆ 4.61      ┆ 4.6825    ┆ 4.389289  ┆ 5.20639e7 │\n",
       "│ 75%        ┆ 2018-03-27 ┆ 42.099998  ┆ 42.645    ┆ 41.4925   ┆ 42.099998 ┆ 41.730057 ┆ 7.46548e7 │\n",
       "│ max        ┆ 2024-04-24 ┆ 958.51001  ┆ 974.0     ┆ 935.09997 ┆ 950.02002 ┆ 950.02002 ┆ 9.230856e │\n",
       "│            ┆            ┆            ┆           ┆ 6         ┆           ┆           ┆ 8         │\n",
       "└────────────┴────────────┴────────────┴───────────┴───────────┴───────────┴───────────┴───────────┘"
      ]
     },
     "execution_count": 122,
     "metadata": {},
     "output_type": "execute_result"
    }
   ],
   "source": [
    "# Check for missing values\n",
    "df.describe()"
   ]
  },
  {
   "cell_type": "markdown",
   "id": "8dbc03f8",
   "metadata": {},
   "source": [
    "> There are no missing values in our dataset."
   ]
  },
  {
   "cell_type": "markdown",
   "id": "bdc6c993",
   "metadata": {},
   "source": [
    "### Data Preparation/Feature Engineering"
   ]
  },
  {
   "cell_type": "code",
   "execution_count": 123,
   "id": "e1f82204",
   "metadata": {},
   "outputs": [
    {
     "data": {
      "text/html": [
       "<div><style>\n",
       ".dataframe > thead > tr,\n",
       ".dataframe > tbody > tr {\n",
       "  text-align: right;\n",
       "  white-space: pre-wrap;\n",
       "}\n",
       "</style>\n",
       "<small>shape: (5, 12)</small><table border=\"1\" class=\"dataframe\"><thead><tr><th>Date</th><th>Open</th><th>High</th><th>Low</th><th>Close</th><th>Adj Close</th><th>Volume</th><th>prev_close</th><th>target</th><th>moving_avg_5</th><th>moving_avg_20</th><th>moving_avg_100</th></tr><tr><td>date</td><td>f64</td><td>f64</td><td>f64</td><td>f64</td><td>f64</td><td>i64</td><td>f64</td><td>i8</td><td>f64</td><td>f64</td><td>f64</td></tr></thead><tbody><tr><td>2000-05-24</td><td>2.244792</td><td>2.28125</td><td>1.921875</td><td>2.21875</td><td>2.035264</td><td>73963200</td><td>2.247396</td><td>0</td><td>2.2010416</td><td>1.940495</td><td>1.510091</td></tr><tr><td>2000-05-25</td><td>2.251302</td><td>2.385417</td><td>2.160156</td><td>2.1875</td><td>2.006598</td><td>56918400</td><td>2.21875</td><td>0</td><td>2.209375</td><td>1.955078</td><td>1.522214</td></tr><tr><td>2000-05-26</td><td>2.198568</td><td>2.259115</td><td>2.0625</td><td>2.198568</td><td>2.016751</td><td>18345600</td><td>2.1875</td><td>1</td><td>2.2235678</td><td>1.972168</td><td>1.534707</td></tr><tr><td>2000-05-30</td><td>2.257813</td><td>2.346354</td><td>2.247396</td><td>2.289063</td><td>2.099762</td><td>30364800</td><td>2.198568</td><td>1</td><td>2.2282554</td><td>1.990788</td><td>1.548418</td></tr><tr><td>2000-05-31</td><td>2.28125</td><td>2.416667</td><td>2.28125</td><td>2.377604</td><td>2.180981</td><td>46953600</td><td>2.289063</td><td>1</td><td>2.254297</td><td>2.017546</td><td>1.5636133</td></tr></tbody></table></div>"
      ],
      "text/plain": [
       "shape: (5, 12)\n",
       "┌────────────┬──────────┬──────────┬──────────┬───┬────────┬─────────────┬────────────┬────────────┐\n",
       "│ Date       ┆ Open     ┆ High     ┆ Low      ┆ … ┆ target ┆ moving_avg_ ┆ moving_avg ┆ moving_avg │\n",
       "│ ---        ┆ ---      ┆ ---      ┆ ---      ┆   ┆ ---    ┆ 5           ┆ _20        ┆ _100       │\n",
       "│ date       ┆ f64      ┆ f64      ┆ f64      ┆   ┆ i8     ┆ ---         ┆ ---        ┆ ---        │\n",
       "│            ┆          ┆          ┆          ┆   ┆        ┆ f64         ┆ f64        ┆ f64        │\n",
       "╞════════════╪══════════╪══════════╪══════════╪═══╪════════╪═════════════╪════════════╪════════════╡\n",
       "│ 2000-05-24 ┆ 2.244792 ┆ 2.28125  ┆ 1.921875 ┆ … ┆ 0      ┆ 2.2010416   ┆ 1.940495   ┆ 1.510091   │\n",
       "│ 2000-05-25 ┆ 2.251302 ┆ 2.385417 ┆ 2.160156 ┆ … ┆ 0      ┆ 2.209375    ┆ 1.955078   ┆ 1.522214   │\n",
       "│ 2000-05-26 ┆ 2.198568 ┆ 2.259115 ┆ 2.0625   ┆ … ┆ 1      ┆ 2.2235678   ┆ 1.972168   ┆ 1.534707   │\n",
       "│ 2000-05-30 ┆ 2.257813 ┆ 2.346354 ┆ 2.247396 ┆ … ┆ 1      ┆ 2.2282554   ┆ 1.990788   ┆ 1.548418   │\n",
       "│ 2000-05-31 ┆ 2.28125  ┆ 2.416667 ┆ 2.28125  ┆ … ┆ 1      ┆ 2.254297    ┆ 2.017546   ┆ 1.5636133  │\n",
       "└────────────┴──────────┴──────────┴──────────┴───┴────────┴─────────────┴────────────┴────────────┘"
      ]
     },
     "execution_count": 123,
     "metadata": {},
     "output_type": "execute_result"
    }
   ],
   "source": [
    "# Create a lag shift column to show the previous day's closing price.\n",
    "df = df.with_columns(prev_close = pl.col(\"Close\").shift(1))\n",
    "\n",
    "\n",
    "\n",
    "# Normalizing the Close and Volume columns.\n",
    "# scaler = MinMaxScaler()\n",
    "# df[['Close', 'Volume', 'prev_close']] = scaler.fit_transform(df[['Close', 'Volume', 'prev_close']])\n",
    "\n",
    "# Creates a target column that shows if the stock price increased or decreased from the previous day.\n",
    "df = df.with_columns(\n",
    "    target = (pl.col(\"Close\") > pl.col(\"prev_close\")).cast(pl.Int8),\n",
    "    moving_avg_5 = pl.col(\"Close\").rolling_mean(window_size=5),\n",
    "    moving_avg_20 = pl.col(\"Close\").rolling_mean(window_size=20),\n",
    "    moving_avg_100 = pl.col(\"Close\").rolling_mean(window_size=100)\n",
    "    )\n",
    "\n",
    "# Removes records without a previous close price\n",
    "df = df.drop_nulls()\n",
    "\n",
    "# Selects the features and target columns\n",
    "X = df.select(\"prev_close\", \"moving_avg_5\", \"moving_avg_20\", \"moving_avg_100\")\n",
    "y = df.select(\"target\")\n",
    "\n",
    "# Splits the data into training and testing sets\n",
    "X_train, X_test, y_train, y_test = train_test_split(X, y, test_size=0.2, random_state=42)\n",
    "\n",
    "df.head()"
   ]
  },
  {
   "cell_type": "code",
   "execution_count": 124,
   "id": "5bb75390",
   "metadata": {},
   "outputs": [
    {
     "name": "stdout",
     "output_type": "stream",
     "text": [
      "Class distribution in the target:\n",
      "shape: (2, 2)\n",
      "┌────────┬───────┐\n",
      "│ target ┆ count │\n",
      "│ ---    ┆ ---   │\n",
      "│ i8     ┆ u32   │\n",
      "╞════════╪═══════╡\n",
      "│ 0      ┆ 2331  │\n",
      "│ 1      ┆ 2482  │\n",
      "└────────┴───────┘\n"
     ]
    }
   ],
   "source": [
    "# Check class distribution in the target variable\n",
    "print(\"Class distribution in the target:\")\n",
    "print(y_train[\"target\"].value_counts())\n"
   ]
  },
  {
   "cell_type": "markdown",
   "id": "3658ec98",
   "metadata": {},
   "source": [
    "### Logistic Regression"
   ]
  },
  {
   "cell_type": "code",
   "execution_count": 125,
   "id": "89384d6e",
   "metadata": {},
   "outputs": [],
   "source": [
    "# Creates a logistic regression model\n",
    "model = LogisticRegression()\n",
    "\n",
    "# Fits the model\n",
    "model.fit(X_train, y_train)\n",
    "\n",
    "# Predicts the target values\n",
    "y_pred = model.predict(X_test)\n"
   ]
  },
  {
   "cell_type": "markdown",
   "id": "18412096",
   "metadata": {},
   "source": [
    "### Model Evaluation"
   ]
  },
  {
   "cell_type": "markdown",
   "id": "c2beb056-08cf-4325-b594-0706d19867d5",
   "metadata": {},
   "source": [
    "Use common metrics to evaluate model performance"
   ]
  },
  {
   "cell_type": "code",
   "execution_count": 126,
   "id": "2b1c1158-6c0f-44ee-a20e-5dd40f166054",
   "metadata": {},
   "outputs": [
    {
     "name": "stdout",
     "output_type": "stream",
     "text": [
      "Accuracy: 0.54\n",
      "Precision: 0.53\n",
      "Recall: 0.95\n",
      "F1 Score: 0.68\n",
      "ROC-AUC: 0.52\n"
     ]
    }
   ],
   "source": [
    "# Calculate metrics\n",
    "accuracy = accuracy_score(y_test, y_pred)\n",
    "precision = precision_score(y_test, y_pred)\n",
    "recall = recall_score(y_test, y_pred)\n",
    "f1 = f1_score(y_test, y_pred)\n",
    "roc_auc = roc_auc_score(y_test, y_pred)\n",
    "\n",
    "# Print the evaluation metrics\n",
    "print(f'Accuracy: {accuracy:.2f}')\n",
    "print(f'Precision: {precision:.2f}')\n",
    "print(f'Recall: {recall:.2f}')\n",
    "print(f'F1 Score: {f1:.2f}')\n",
    "print(f'ROC-AUC: {roc_auc:.2f}')"
   ]
  },
  {
   "cell_type": "code",
   "execution_count": 127,
   "id": "b264f49a",
   "metadata": {},
   "outputs": [
    {
     "data": {
      "image/png": "[encoded data removed]",
      "text/plain": [
       "<Figure size 800x600 with 2 Axes>"
      ]
     },
     "metadata": {},
     "output_type": "display_data"
    }
   ],
   "source": [
    "from sklearn.metrics import confusion_matrix\n",
    "import seaborn as sns\n",
    "import matplotlib.pyplot as plt\n",
    "\n",
    "# Calculate the confusion matrix\n",
    "cm = confusion_matrix(y_test, y_pred)\n",
    "\n",
    "# Define the labels for each quadrant of the matrix\n",
    "labels = [\n",
    "    ['True Negatives (TN)', 'False Positives (FP)'],\n",
    "    ['False Negatives (FN)', 'True Positives (TP)']\n",
    "]\n",
    "\n",
    "# Plot the confusion matrix using seaborn\n",
    "plt.figure(figsize=(8, 6))\n",
    "sns.heatmap(cm, annot=True, fmt='d', cmap='Blues', xticklabels=['Predicted 0', 'Predicted 1'], yticklabels=['Actual 0', 'Actual 1'])\n",
    "\n",
    "# Add titles and labels\n",
    "plt.title('Confusion Matrix for Logistic Regression')\n",
    "plt.xlabel('Predicted Labels')\n",
    "plt.ylabel('Actual Labels')\n",
    "plt.show()\n"
   ]
  },
  {
   "cell_type": "markdown",
   "id": "930e1016",
   "metadata": {},
   "source": [
    "> The accuracy of 0.54 suggests that it performs slightly better than random. Precision is 0.53, indicating moderate reliability when predicting positives. A recall of 0.95 reflects that the model successfully identifies all actual positives, likely at the cost of increased false positives. The F1 score of 0.68 represents a reasonable balance between precision and recall but could be improved. However, the ROC-AUC score of 0.52 suggests the model is currently no better than random in distinguishing between classes."
   ]
  },
  {
   "cell_type": "markdown",
   "id": "4dc98094-50b1-4fad-8fe7-86c4b2ce1c35",
   "metadata": {},
   "source": [
    "### Random Forest Model"
   ]
  },
  {
   "cell_type": "code",
   "execution_count": 128,
   "id": "a19c4a93",
   "metadata": {},
   "outputs": [
    {
     "data": {
      "text/plain": [
       "200"
      ]
     },
     "execution_count": 128,
     "metadata": {},
     "output_type": "execute_result"
    }
   ],
   "source": [
    "# This is the grid search for the Random Forest Classifier to select the best n_estimators\n",
    "param_grid = {'n_estimators': [50, 100, 150, 200, 250]}\n",
    "grid_search = GridSearchCV(RandomForestClassifier(random_state=42), param_grid, cv=5)\n",
    "grid_search.fit(X_train, y_train)\n",
    "best_n_estimators = grid_search.best_params_['n_estimators']\n",
    "best_n_estimators"
   ]
  },
  {
   "cell_type": "code",
   "execution_count": 129,
   "id": "c073c54b-ab88-4d4a-89cb-0b8d392ac4b2",
   "metadata": {},
   "outputs": [
    {
     "name": "stdout",
     "output_type": "stream",
     "text": [
      "Random Forest Accuracy: 0.54\n",
      "Random Forest Precision: 0.56\n",
      "Random Forest Recall: 0.56\n",
      "Random Forest F1 Score: 0.56\n",
      "Random Forest ROC-AUC: 0.54\n"
     ]
    }
   ],
   "source": [
    "# Trains the Random Forest model\n",
    "rf_model = RandomForestClassifier(n_estimators=200, random_state=42)\n",
    "rf_model.fit(X_train, y_train)\n",
    "\n",
    "# Make predictions\n",
    "y_rf_pred = rf_model.predict(X_test)\n",
    "\n",
    "# Evaluate Random Forest model\n",
    "rf_accuracy = accuracy_score(y_test, y_rf_pred)\n",
    "rf_precision = precision_score(y_test, y_rf_pred)\n",
    "rf_recall = recall_score(y_test, y_rf_pred)\n",
    "rf_f1 = f1_score(y_test, y_rf_pred)\n",
    "rf_roc_auc = roc_auc_score(y_test, y_rf_pred)\n",
    "\n",
    "# Print the evaluation metrics for Random Forest\n",
    "print(f'Random Forest Accuracy: {rf_accuracy:.2f}')\n",
    "print(f'Random Forest Precision: {rf_precision:.2f}')\n",
    "print(f'Random Forest Recall: {rf_recall:.2f}')\n",
    "print(f'Random Forest F1 Score: {rf_f1:.2f}')\n",
    "print(f'Random Forest ROC-AUC: {rf_roc_auc:.2f}')"
   ]
  },
  {
   "cell_type": "code",
   "execution_count": 130,
   "id": "3b6e2552",
   "metadata": {},
   "outputs": [
    {
     "data": {
      "image/png": "[encoded data removed]",
      "text/plain": [
       "<Figure size 800x600 with 2 Axes>"
      ]
     },
     "metadata": {},
     "output_type": "display_data"
    }
   ],
   "source": [
    "from sklearn.metrics import confusion_matrix\n",
    "import seaborn as sns\n",
    "import matplotlib.pyplot as plt\n",
    "\n",
    "# Calculate the confusion matrix\n",
    "cm = confusion_matrix(y_test, y_rf_pred)\n",
    "\n",
    "# Define the labels for each quadrant of the matrix\n",
    "labels = [\n",
    "    ['True Negatives (TN)', 'False Positives (FP)'],\n",
    "    ['False Negatives (FN)', 'True Positives (TP)']\n",
    "]\n",
    "\n",
    "# Plot the confusion matrix using seaborn\n",
    "plt.figure(figsize=(8, 6))\n",
    "sns.heatmap(cm, annot=True, fmt='d', cmap='Blues', xticklabels=['Predicted 0', 'Predicted 1'], yticklabels=['Actual 0', 'Actual 1'])\n",
    "\n",
    "# Add titles and labels\n",
    "plt.title('Confusion Matrix for Random Forest')\n",
    "plt.xlabel('Predicted Labels')\n",
    "plt.ylabel('Actual Labels')\n",
    "plt.show()"
   ]
  },
  {
   "cell_type": "markdown",
   "id": "e17932ae",
   "metadata": {},
   "source": [
    "> With an accuracy of 0.51, the model is performing just above random chance, classifying only about half of the cases correctly. Precision and recall are similarly low at 0.52 and 0.53, suggesting that while it captures some true positives, it also misclassifies a comparable number of false positives. The F1 score of 0.53 reflects this imbalance, indicating limited trade-off between precision and recall. The ROC-AUC score, close to 0.51, shows minimal class separation, underscoring the model’s difficulty in distinguishing between classes."
   ]
  },
  {
   "cell_type": "markdown",
   "id": "753b10f0-31f2-493a-8fc5-ef3e977b1a1b",
   "metadata": {},
   "source": [
    "### LSTM model"
   ]
  },
  {
   "cell_type": "code",
   "execution_count": 131,
   "id": "fc765749-bc53-4c45-b961-26d9ca885aca",
   "metadata": {},
   "outputs": [
    {
     "name": "stdout",
     "output_type": "stream",
     "text": [
      "Epoch 1/10\n",
      "\u001b[1m151/151\u001b[0m \u001b[32m━━━━━━━━━━━━━━━━━━━━\u001b[0m\u001b[37m\u001b[0m \u001b[1m1s\u001b[0m 436us/step - accuracy: 0.5127 - loss: 0.6954\n",
      "Epoch 2/10\n",
      "\u001b[1m151/151\u001b[0m \u001b[32m━━━━━━━━━━━━━━━━━━━━\u001b[0m\u001b[37m\u001b[0m \u001b[1m0s\u001b[0m 363us/step - accuracy: 0.5263 - loss: 0.6912\n",
      "Epoch 3/10\n",
      "\u001b[1m151/151\u001b[0m \u001b[32m━━━━━━━━━━━━━━━━━━━━\u001b[0m\u001b[37m\u001b[0m \u001b[1m0s\u001b[0m 368us/step - accuracy: 0.5229 - loss: 0.6925\n",
      "Epoch 4/10\n",
      "\u001b[1m151/151\u001b[0m \u001b[32m━━━━━━━━━━━━━━━━━━━━\u001b[0m\u001b[37m\u001b[0m \u001b[1m0s\u001b[0m 363us/step - accuracy: 0.5288 - loss: 0.6918\n",
      "Epoch 5/10\n",
      "\u001b[1m151/151\u001b[0m \u001b[32m━━━━━━━━━━━━━━━━━━━━\u001b[0m\u001b[37m\u001b[0m \u001b[1m0s\u001b[0m 365us/step - accuracy: 0.5346 - loss: 0.6914\n",
      "Epoch 6/10\n",
      "\u001b[1m151/151\u001b[0m \u001b[32m━━━━━━━━━━━━━━━━━━━━\u001b[0m\u001b[37m\u001b[0m \u001b[1m0s\u001b[0m 364us/step - accuracy: 0.5182 - loss: 0.6926\n",
      "Epoch 7/10\n",
      "\u001b[1m151/151\u001b[0m \u001b[32m━━━━━━━━━━━━━━━━━━━━\u001b[0m\u001b[37m\u001b[0m \u001b[1m0s\u001b[0m 361us/step - accuracy: 0.5376 - loss: 0.6905\n",
      "Epoch 8/10\n",
      "\u001b[1m151/151\u001b[0m \u001b[32m━━━━━━━━━━━━━━━━━━━━\u001b[0m\u001b[37m\u001b[0m \u001b[1m0s\u001b[0m 362us/step - accuracy: 0.5253 - loss: 0.6921\n",
      "Epoch 9/10\n",
      "\u001b[1m151/151\u001b[0m \u001b[32m━━━━━━━━━━━━━━━━━━━━\u001b[0m\u001b[37m\u001b[0m \u001b[1m0s\u001b[0m 370us/step - accuracy: 0.5340 - loss: 0.6915\n",
      "Epoch 10/10\n",
      "\u001b[1m151/151\u001b[0m \u001b[32m━━━━━━━━━━━━━━━━━━━━\u001b[0m\u001b[37m\u001b[0m \u001b[1m0s\u001b[0m 363us/step - accuracy: 0.5357 - loss: 0.6909\n",
      "\u001b[1m38/38\u001b[0m \u001b[32m━━━━━━━━━━━━━━━━━━━━\u001b[0m\u001b[37m\u001b[0m \u001b[1m0s\u001b[0m 1ms/step\n",
      "LSTM Accuracy: 0.53\n",
      "LSTM Precision: 0.53\n",
      "LSTM Recall: 0.93\n",
      "LSTM F1 Score: 0.68\n",
      "LSTM ROC-AUC: 0.51\n"
     ]
    }
   ],
   "source": [
    "# Reshape the data to be compatible with LSTM input requirements.\n",
    "X_lstm = np.array(X).reshape((X.shape[0], 1, X.shape[1]))\n",
    "\n",
    "# Split the dataset into training and testing sets for LSTM.\n",
    "X_train_lstm, X_test_lstm, y_train_lstm, y_test_lstm = train_test_split(X_lstm, y, test_size=0.2, random_state=42)\n",
    "\n",
    "# Build the LSTM model using the Sequential API.\n",
    "lstm_model = Sequential()\n",
    "\n",
    "# Add an LSTM layer with 50 units and define the input shape.\n",
    "lstm_model.add(LSTM(50, input_shape=(X_train_lstm.shape[1], X_train_lstm.shape[2])))\n",
    "\n",
    "# Add a Dense layer with a sigmoid activation function for binary classification.\n",
    "lstm_model.add(Dense(1, activation='sigmoid'))\n",
    "\n",
    "# Compile the model.\n",
    "# Using the Adam optimizer for its adaptive learning rate capabilities, which helps achieve faster convergence and stability during training.\n",
    "# Binary cross-entropy loss is chosen for binary classification, as it effectively measures the difference between the actual and predicted class probabilities.\n",
    "# It works well with the sigmoid activation function used in the output layer.\n",
    "lstm_model.compile(optimizer='adam', loss='binary_crossentropy', metrics=['accuracy'])\n",
    "\n",
    "# Train the LSTM model on the training dataset.\n",
    "# The model will be trained for 10 epochs with a batch size of 32 as a good starting point without overfitting.\n",
    "lstm_model.fit(X_train_lstm, y_train_lstm, epochs=10, batch_size=32)\n",
    "\n",
    "# The predictions are thresholded at 0.5 to convert probabilities to binary class labels.\n",
    "y_lstm_pred = (lstm_model.predict(X_test_lstm) > 0.5).astype(\"int32\")\n",
    "\n",
    "# Calculate evaluation metrics for the LSTM model's performance.\n",
    "lstm_accuracy = accuracy_score(y_test_lstm, y_lstm_pred)\n",
    "lstm_precision = precision_score(y_test_lstm, y_lstm_pred)\n",
    "lstm_recall = recall_score(y_test_lstm, y_lstm_pred)\n",
    "lstm_f1 = f1_score(y_test_lstm, y_lstm_pred)\n",
    "lstm_roc_auc = roc_auc_score(y_test_lstm, y_lstm_pred)\n",
    "\n",
    "# Print the evaluation metrics for the LSTM model.\n",
    "print(f'LSTM Accuracy: {lstm_accuracy:.2f}')\n",
    "print(f'LSTM Precision: {lstm_precision:.2f}')\n",
    "print(f'LSTM Recall: {lstm_recall:.2f}')\n",
    "print(f'LSTM F1 Score: {lstm_f1:.2f}')\n",
    "print(f'LSTM ROC-AUC: {lstm_roc_auc:.2f}')\n"
   ]
  },
  {
   "cell_type": "code",
   "execution_count": 132,
   "id": "9a6b7b35",
   "metadata": {},
   "outputs": [
    {
     "data": {
      "image/png": "[encoded data removed]",
      "text/plain": [
       "<Figure size 800x600 with 2 Axes>"
      ]
     },
     "metadata": {},
     "output_type": "display_data"
    }
   ],
   "source": [
    "from sklearn.metrics import confusion_matrix\n",
    "import seaborn as sns\n",
    "import matplotlib.pyplot as plt\n",
    "\n",
    "# Calculate the confusion matrix\n",
    "cm = confusion_matrix(y_test, y_lstm_pred)\n",
    "\n",
    "# Define the labels for each quadrant of the matrix\n",
    "labels = [\n",
    "    ['True Negatives (TN)', 'False Positives (FP)'],\n",
    "    ['False Negatives (FN)', 'True Positives (TP)']\n",
    "]\n",
    "\n",
    "# Plot the confusion matrix using seaborn\n",
    "plt.figure(figsize=(8, 6))\n",
    "sns.heatmap(cm, annot=True, fmt='d', cmap='Blues', xticklabels=['Predicted 0', 'Predicted 1'], yticklabels=['Actual 0', 'Actual 1'])\n",
    "\n",
    "# Add titles and labels\n",
    "plt.title('Confusion Matrix for LSTM Model')\n",
    "plt.xlabel('Predicted Labels')\n",
    "plt.ylabel('Actual Labels')\n",
    "plt.show()"
   ]
  },
  {
   "cell_type": "markdown",
   "id": "82a57b42",
   "metadata": {},
   "source": [
    "> The LSTM model shows an accuracy of 0.54, which is only slightly better than random guessing. Both precision and F1 score are at 0.55 and 0.66, indicating some success in identifying positive predictions but also a struggle with false positives. The recall is at .66, suggesting the model identifies over half the true positives, though this may indicate overfitting. Finally, the ROC-AUC score of 0.50 shows limited class distinction."
   ]
  },
  {
   "cell_type": "markdown",
   "id": "d3d0935c",
   "metadata": {},
   "source": [
    "### Conclusion"
   ]
  },
  {
   "cell_type": "markdown",
   "id": "3e4e6143-c963-41b4-8fb6-ca0b2b946a3b",
   "metadata": {},
   "source": [
    "The performance analysis of the three models—Logistic Regression, Random Forest, and LSTM—provides valuable insights into their ability to predict NVIDIA's stock price movements. The Logistic Regression model shows a perfect recall of 1.00, which means it captures every actual stock price increase. However, it falls short in accuracy and precision, both sitting at 0.52. This indicates that while the model identifies positive cases effectively, it misclassifies a significant number of negative instances, leading to a high rate of false positives. This kind of misclassification can be a real headache for investors, as it might give them the wrong impression that a stock price increase is likely when it isn’t.\n",
    "\n",
    "On the other hand, the Random Forest model records an accuracy of 0.51, a precision of 0.52, and a recall of 0.53. These numbers suggest that it struggles to accurately classify stock price movements, failing to recognize both actual price increases and avoiding false positives. Its relatively low scores in precision and recall indicate that it's not performing efficiently when it comes to identifying true positives.\n",
    "\n",
    "The LSTM model mirrors the performance of Logistic Regression, boasting a recall of 1.00 but also showing the same low accuracy and precision scores. Like Logistic Regression, it effectively identifies all stock price increases but misclassifies many downward movements, as reflected in its F1 score. While LSTM models are usually great at capturing sequential patterns in time-series data, in this case, it seems like it's not fully utilizing that capability.\n",
    "\n",
    "There’s plenty of room for improvement across all models. A major area to focus on is feature engineering. Adding more features, such as market sentiment, macroeconomic indicators, or company news, could really boost model accuracy by providing deeper insights into stock price movements. We could also experiment with techniques like feature selection or dimensionality reduction to help clean up the data and focus on the most impactful predictors.\n",
    "\n",
    "Additionally, utilizing hyperparameter tuning and optimizing model parameters could significantly enhance the Random Forest and LSTM models. Techniques like grid search or random search could help pinpoint the most effective configurations for these models, making them more powerful.\n",
    "\n",
    "From a business perspective, it’s crucial to prioritize a higher precision score, especially if the goal is to make financial decisions based on predicted stock price increases. A model with high precision means that when it forecasts a price increase, it’s more likely to be correct, which helps minimize the risk of overly optimistic predictions that could lead to poor investment choices. However, if the focus shifts to minimizing missed opportunities, we should aim to improve recall to ensure that the model captures a wider range of stock price increases.\n",
    "\n",
    "In conclusion, by striking a careful balance between precision, recall, and overall model performance, I believe we can enhance decision-making in stock market predictions. Continuing to explore ways to improve our models, while strategically incorporating additional data and refining existing features, will lead us to a more robust and reliable predictive framework for NVIDIA's stock movements. This will ultimately empower stakeholders to make more informed investment decisions."
   ]
  }
 ],
 "metadata": {
  "kernelspec": {
   "display_name": "630_fp",
   "language": "python",
   "name": "python3"
  },
  "language_info": {
   "codemirror_mode": {
    "name": "ipython",
    "version": 3
   },
   "file_extension": ".py",
   "mimetype": "text/x-python",
   "name": "python",
   "nbconvert_exporter": "python",
   "pygments_lexer": "ipython3",
   "version": "3.12.4"
  }
 },
 "nbformat": 4,
 "nbformat_minor": 5
}
